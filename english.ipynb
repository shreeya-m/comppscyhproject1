{
 "cells": [
  {
   "cell_type": "code",
   "execution_count": null,
   "id": "9c1ac83e",
   "metadata": {},
   "outputs": [
    {
     "name": "stdout",
     "output_type": "stream",
     "text": [
      "Requirement already satisfied: transformers in c:\\users\\sm3532\\desktop\\projectl\\v\\lib\\site-packages (4.51.3)\n",
      "Requirement already satisfied: tokenizers in c:\\users\\sm3532\\desktop\\projectl\\v\\lib\\site-packages (0.21.1)\n",
      "Requirement already satisfied: torch in c:\\users\\sm3532\\desktop\\projectl\\v\\lib\\site-packages (2.7.0)\n",
      "Requirement already satisfied: filelock in c:\\users\\sm3532\\desktop\\projectl\\v\\lib\\site-packages (from transformers) (3.18.0)\n",
      "Requirement already satisfied: huggingface-hub<1.0,>=0.30.0 in c:\\users\\sm3532\\desktop\\projectl\\v\\lib\\site-packages (from transformers) (0.30.2)\n",
      "Requirement already satisfied: numpy>=1.17 in c:\\users\\sm3532\\desktop\\projectl\\v\\lib\\site-packages (from transformers) (2.2.5)\n",
      "Requirement already satisfied: packaging>=20.0 in c:\\users\\sm3532\\desktop\\projectl\\v\\lib\\site-packages (from transformers) (25.0)\n",
      "Requirement already satisfied: pyyaml>=5.1 in c:\\users\\sm3532\\desktop\\projectl\\v\\lib\\site-packages (from transformers) (6.0.2)\n",
      "Requirement already satisfied: regex!=2019.12.17 in c:\\users\\sm3532\\desktop\\projectl\\v\\lib\\site-packages (from transformers) (2024.11.6)\n",
      "Requirement already satisfied: requests in c:\\users\\sm3532\\desktop\\projectl\\v\\lib\\site-packages (from transformers) (2.32.3)\n",
      "Requirement already satisfied: safetensors>=0.4.3 in c:\\users\\sm3532\\desktop\\projectl\\v\\lib\\site-packages (from transformers) (0.5.3)\n",
      "Requirement already satisfied: tqdm>=4.27 in c:\\users\\sm3532\\desktop\\projectl\\v\\lib\\site-packages (from transformers) (4.67.1)\n",
      "Requirement already satisfied: fsspec>=2023.5.0 in c:\\users\\sm3532\\desktop\\projectl\\v\\lib\\site-packages (from huggingface-hub<1.0,>=0.30.0->transformers) (2025.3.2)\n",
      "Requirement already satisfied: typing-extensions>=3.7.4.3 in c:\\users\\sm3532\\desktop\\projectl\\v\\lib\\site-packages (from huggingface-hub<1.0,>=0.30.0->transformers) (4.13.2)\n",
      "Requirement already satisfied: sympy>=1.13.3 in c:\\users\\sm3532\\desktop\\projectl\\v\\lib\\site-packages (from torch) (1.14.0)\n",
      "Requirement already satisfied: networkx in c:\\users\\sm3532\\desktop\\projectl\\v\\lib\\site-packages (from torch) (3.4.2)\n",
      "Requirement already satisfied: jinja2 in c:\\users\\sm3532\\desktop\\projectl\\v\\lib\\site-packages (from torch) (3.1.6)\n",
      "Requirement already satisfied: setuptools in c:\\users\\sm3532\\desktop\\projectl\\v\\lib\\site-packages (from torch) (80.3.1)\n",
      "Requirement already satisfied: mpmath<1.4,>=1.1.0 in c:\\users\\sm3532\\desktop\\projectl\\v\\lib\\site-packages (from sympy>=1.13.3->torch) (1.3.0)\n",
      "Requirement already satisfied: colorama in c:\\users\\sm3532\\desktop\\projectl\\v\\lib\\site-packages (from tqdm>=4.27->transformers) (0.4.6)\n",
      "Requirement already satisfied: MarkupSafe>=2.0 in c:\\users\\sm3532\\desktop\\projectl\\v\\lib\\site-packages (from jinja2->torch) (3.0.2)\n",
      "Requirement already satisfied: charset-normalizer<4,>=2 in c:\\users\\sm3532\\desktop\\projectl\\v\\lib\\site-packages (from requests->transformers) (3.4.2)\n",
      "Requirement already satisfied: idna<4,>=2.5 in c:\\users\\sm3532\\desktop\\projectl\\v\\lib\\site-packages (from requests->transformers) (3.10)\n",
      "Requirement already satisfied: urllib3<3,>=1.21.1 in c:\\users\\sm3532\\desktop\\projectl\\v\\lib\\site-packages (from requests->transformers) (2.4.0)\n",
      "Requirement already satisfied: certifi>=2017.4.17 in c:\\users\\sm3532\\desktop\\projectl\\v\\lib\\site-packages (from requests->transformers) (2025.4.26)\n",
      "Note: you may need to restart the kernel to use updated packages.\n"
     ]
    }
   ],
   "source": [
    "%pip install transformers tokenizers torch\n",
    "from sklearn import datasets\n",
    "%store -r index\n",
    "%store -r beginning_index\n",
    "%store -r ending_index"
   ]
  },
  {
   "cell_type": "code",
   "execution_count": 4,
   "id": "5dd87d38",
   "metadata": {},
   "outputs": [
    {
     "name": "stderr",
     "output_type": "stream",
     "text": [
      "c:\\Users\\sm3532\\Desktop\\projectl\\v\\Lib\\site-packages\\tqdm\\auto.py:21: TqdmWarning: IProgress not found. Please update jupyter and ipywidgets. See https://ipywidgets.readthedocs.io/en/stable/user_install.html\n",
      "  from .autonotebook import tqdm as notebook_tqdm\n"
     ]
    }
   ],
   "source": [
    "import torch\n",
    "from transformers import AutoModelForCausalLM, AutoTokenizer\n",
    "import torch.nn.functional as F\n",
    "import math\n",
    "import matplotlib.pyplot as plt\n"
   ]
  },
  {
   "cell_type": "code",
   "execution_count": 5,
   "id": "a33f1924",
   "metadata": {},
   "outputs": [
    {
     "data": {
      "text/plain": [
       "GPT2LMHeadModel(\n",
       "  (transformer): GPT2Model(\n",
       "    (wte): Embedding(50257, 768)\n",
       "    (wpe): Embedding(1024, 768)\n",
       "    (drop): Dropout(p=0.1, inplace=False)\n",
       "    (h): ModuleList(\n",
       "      (0-11): 12 x GPT2Block(\n",
       "        (ln_1): LayerNorm((768,), eps=1e-05, elementwise_affine=True)\n",
       "        (attn): GPT2Attention(\n",
       "          (c_attn): Conv1D(nf=2304, nx=768)\n",
       "          (c_proj): Conv1D(nf=768, nx=768)\n",
       "          (attn_dropout): Dropout(p=0.1, inplace=False)\n",
       "          (resid_dropout): Dropout(p=0.1, inplace=False)\n",
       "        )\n",
       "        (ln_2): LayerNorm((768,), eps=1e-05, elementwise_affine=True)\n",
       "        (mlp): GPT2MLP(\n",
       "          (c_fc): Conv1D(nf=3072, nx=768)\n",
       "          (c_proj): Conv1D(nf=768, nx=3072)\n",
       "          (act): NewGELUActivation()\n",
       "          (dropout): Dropout(p=0.1, inplace=False)\n",
       "        )\n",
       "      )\n",
       "    )\n",
       "    (ln_f): LayerNorm((768,), eps=1e-05, elementwise_affine=True)\n",
       "  )\n",
       "  (lm_head): Linear(in_features=768, out_features=50257, bias=False)\n",
       ")"
      ]
     },
     "execution_count": 5,
     "metadata": {},
     "output_type": "execute_result"
    }
   ],
   "source": [
    "device = torch.device('cuda' if torch.cuda.is_available() else 'cpu')\n",
    "#load model\n",
    "model_name = \"gpt2\" \n",
    "model = AutoModelForCausalLM.from_pretrained(model_name)\n",
    "tokenizer = AutoTokenizer.from_pretrained(model_name)\n",
    "model = AutoModelForCausalLM.from_pretrained(model_name).to(device)\n",
    "model.eval()  # turn off dropout\n",
    "model.eval()"
   ]
  },
  {
   "cell_type": "code",
   "execution_count": 6,
   "id": "1c99c09a",
   "metadata": {},
   "outputs": [],
   "source": [
    "def surprisal_and_token(sentence):\n",
    "    # add bos token to sentence\n",
    "    sentence = tokenizer.bos_token + sentence + tokenizer.eos_token\n",
    "    inputs = tokenizer(sentence, return_tensors=\"pt\", add_special_tokens=False, return_offsets_mapping=True)\n",
    "    with torch.no_grad():\n",
    "        outputs = model(**inputs)\n",
    "        logits = outputs.logits\n",
    "        probs = F.log_softmax(logits, dim = -1)\n",
    "    input_ids = inputs[\"input_ids\"][0].to(device)\n",
    "    offsets = inputs['offset_mapping'][0].tolist()\n",
    "    # get tokens\n",
    "    tokens = tokenizer.convert_ids_to_tokens(input_ids)\n",
    "    surprisals = []\n",
    "    for id in range(1, len(input_ids)):\n",
    "        token_id = int(input_ids[id])\n",
    "        log_prob = probs[0, id-1, token_id].item()\n",
    "        surprisal = -log_prob / math.log(2)\n",
    "        surprisals.append((tokens[id], offsets[id], surprisal))\n",
    "    return surprisals\n",
    "\n",
    "def sentence_surprisal(sentence):\n",
    "    surprisals = surprisal_and_token(sentence)\n",
    "    total = 0\n",
    "    for surprisal in surprisals:\n",
    "        total +=surprisal[2]\n",
    "    return total\n",
    "\n",
    "def average_sentence_surprisal(sentences):\n",
    "    sum = 0\n",
    "    for sentence in sentences:\n",
    "        sum += sentence_surprisal(sentence)\n",
    "    return sum / len(sentences)"
   ]
  },
  {
   "cell_type": "code",
   "execution_count": null,
   "id": "ba8a8e28",
   "metadata": {},
   "outputs": [
    {
     "name": "stdout",
     "output_type": "stream",
     "text": [
      "Average sentence surprisals for GPT2 English: 37.817523981839706\n"
     ]
    }
   ],
   "source": [
    "# Open and read the file\n",
    "with open('e.txt', 'r') as file:\n",
    "    sentences = file.readlines()\n",
    "\n",
    "range = sentences[beginning_index:ending_index]\n",
    "\n",
    "# If you want to append to an existing list\n",
    "sentences_list = []\n",
    "for sentence in range:\n",
    "    sentences_list.append(sentence.strip())  # Remove any trailing newlines\n",
    "\n",
    "print(f\"Average sentence surprisals for GPT2 English: {average_sentence_surprisal(sentences_list)}\")"
   ]
  },
  {
   "cell_type": "code",
   "execution_count": null,
   "id": "b2f8dc2d",
   "metadata": {},
   "outputs": [
    {
     "name": "stdout",
     "output_type": "stream",
     "text": [
      "Tokens and Offsets:\n",
      "Token 0: 'It' -> 'It' (start: 0, end: 2)\n",
      "Token 1: 'Ġis' -> ' is' (start: 2, end: 5)\n",
      "Token 2: 'Ġunfortunately' -> ' unfortunately' (start: 5, end: 19)\n",
      "Token 3: 'Ġtrue' -> ' true' (start: 19, end: 24)\n",
      "Token 4: '.' -> '.' (start: 24, end: 25)\n",
      "Tokens, Offsets, Surface Forms, and Surprisal Values:\n",
      "It: 'It' (0-2) -> Surprisal: 14.1719\n",
      "Ġis: ' is' (2-5) -> Surprisal: 4.1837\n",
      "Ġunfortunately: ' unfortunately' (5-19) -> Surprisal: 11.3864\n",
      "Ġtrue: ' true' (19-24) -> Surprisal: 4.5666\n",
      ".: '.' (24-25) -> Surprisal: 6.3368\n",
      "\n",
      "Final Word-Level Surprisal Values:\n",
      "Word: It -> Surprisal: 14.1719\n",
      "Word:  is -> Surprisal: 4.1837\n",
      "Word:  unfortunately -> Surprisal: 11.3864\n",
      "Word:  true -> Surprisal: 4.5666\n",
      "Word: . -> Surprisal: 6.3368\n"
     ]
    },
    {
     "data": {
      "image/png": "[encoded data removed]",
      "text/plain": [
       "<Figure size 1000x600 with 1 Axes>"
      ]
     },
     "metadata": {},
     "output_type": "display_data"
    }
   ],
   "source": [
    "wwords = []  # List to store word-level tokens\n",
    "ssurp = [] \n",
    "\n",
    "plt.rcParams['font.family'] = 'Malgun Gothic'  # Windows\n",
    "plt.rcParams['axes.unicode_minus'] = False  \n",
    "def group_surprisal_by_char_spans(sentence):\n",
    "    inputs = tokenizer(sentence, return_tensors=\"pt\", return_offsets_mapping=True, add_special_tokens=True)\n",
    "    with torch.no_grad():\n",
    "        outputs = model(**inputs)\n",
    "        logits = outputs.logits\n",
    "        log_probs = F.log_softmax(logits, dim=-1)\n",
    "\n",
    "    input_ids = inputs[\"input_ids\"][0]\n",
    "    offsets = inputs[\"offset_mapping\"][0].tolist()\n",
    "    tokens = tokenizer.convert_ids_to_tokens(input_ids)\n",
    "    print(\"Tokens and Offsets:\")\n",
    "    for i, (token_id, (start, end)) in enumerate(zip(input_ids, offsets)):\n",
    "        token = tokens[i]\n",
    "        token_str = sentence[start:end] if start != end else \"\" \n",
    "        print(f\"Token {i}: '{token}' -> '{token_str}' (start: {start}, end: {end})\")\n",
    "\n",
    "    #  process tokens and compute surprisal\n",
    "    print(\"Tokens, Offsets, Surface Forms, and Surprisal Values:\")\n",
    "    for i, (token_id, (start, end)) in enumerate(zip(input_ids, offsets)):\n",
    "        token = tokens[i]\n",
    "        token_str = sentence[start:end] if start != end else \"\"  # Get the surface form of the token\n",
    "        \n",
    "        # for the first token\n",
    "        if i == 0 or i == len(input_ids) - 2 or i == len(input_ids) -1:\n",
    "            wwords.append(token_str)\n",
    "            log_prob = log_probs[0, i - 1, token_id].item()  # Log prob for first token (no previous token)\n",
    "            surprisal = -log_prob / math.log(2)\n",
    "            ssurp.append(surprisal)\n",
    "            print(f\"{token}: '{token_str}' ({start}-{end}) -> Surprisal: {surprisal:.4f}\")\n",
    "            continue\n",
    "\n",
    "        # for tokens starting with 'Ġ' (start of a new word)\n",
    "        if token.startswith('Ġ'):\n",
    "            # this is the start of a new word, append it separately\n",
    "            wwords.append(token_str)  # append only the new word\n",
    "            log_prob = log_probs[0, i - 1, token_id].item()  # log prob for this word for surp\n",
    "            surprisal = -log_prob / math.log(2)\n",
    "            ssurp.append(surprisal)\n",
    "            print(f\"{token}: '{token_str}' ({start}-{end}) -> Surprisal: {surprisal:.4f}\")\n",
    "        else:\n",
    "            if len(wwords) > 0:\n",
    "                # Append the current token to the last word\n",
    "                wwords[-1] += token_str\n",
    "                log_prob = log_probs[0, i - 1, token_id].item()\n",
    "                surprisal = -log_prob / math.log(2)\n",
    "                ssurp[-1] += surprisal  # Update the surprisal for this word\n",
    "                print(f\"{token}: '{wwords[-1]}' ({start}-{end}) -> Surprisal: {surprisal:.4f}\")\n",
    "\n",
    "    # final word-surprisal pairings for verification\n",
    "    print(\"\\nFinal Word-Level Surprisal Values:\")\n",
    "    for word, surprisal in zip(wwords, ssurp):\n",
    "        print(f\"Word: {word} -> Surprisal: {surprisal:.4f}\")\n",
    "    word_surp = [(\"<BOS>\", float('nan'))]\n",
    "\n",
    "    current_word = \"\"\n",
    "    current_surprisal = 0.0\n",
    "    prev_end = 0\n",
    "\n",
    "    return word_surp\n",
    "sentence = sentences[index]\n",
    "# Run the function\n",
    "result = group_surprisal_by_char_spans(sentence)\n",
    "if len(wwords) == len(ssurp):\n",
    "    plt.figure(figsize=(10, 6))\n",
    "    plt.bar(wwords, ssurp, color='darkblue')\n",
    "    plt.xlabel('Word')\n",
    "    plt.ylabel('Surprisal')\n",
    "    plt.title('Word-Level Surprisal: GPT2 MODEL')\n",
    "    plt.xticks(rotation=45)\n",
    "    plt.tight_layout()\n",
    "    plt.show()\n",
    "else:\n",
    "    print(\"Cannot plot: Mismatched lengths between words and surprisal values.\")"
   ]
  }
 ],
 "metadata": {
  "kernelspec": {
   "display_name": "v",
   "language": "python",
   "name": "python3"
  },
  "language_info": {
   "codemirror_mode": {
    "name": "ipython",
    "version": 3
   },
   "file_extension": ".py",
   "mimetype": "text/x-python",
   "name": "python",
   "nbconvert_exporter": "python",
   "pygments_lexer": "ipython3",
   "version": "3.13.3"
  }
 },
 "nbformat": 4,
 "nbformat_minor": 5
}
